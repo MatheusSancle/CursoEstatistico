{
  "nbformat": 4,
  "nbformat_minor": 0,
  "metadata": {
    "colab": {
      "name": "estatistica_python_mercado_financeiro.ipynb",
      "provenance": [],
      "collapsed_sections": []
    },
    "kernelspec": {
      "name": "python3",
      "display_name": "Python 3"
    }
  },
  "cells": [
    {
      "cell_type": "markdown",
      "metadata": {
        "id": "XgHxlLlnXbT8",
        "colab_type": "text"
      },
      "source": [
        "# CURSO ESTATÍSTICA NO PYTHON\n",
        "## Análise de dados Financeiros\n",
        "### Responsável: Danilo Alcântara  Milhomem\n",
        "### Data: 19/01/2020\n",
        "### Mestrado em Engenharia de Produção e Sistemas - MEPROS - PUC Goiás\n",
        "### Otimização de portfólio\n",
        "### Orientador (a): Dra. Maria José Pereira Dantas\n",
        " "
      ]
    },
    {
      "cell_type": "markdown",
      "metadata": {
        "id": "Iav8Ip-_Ynhx",
        "colab_type": "text"
      },
      "source": [
        "## 1. IMPORTAR BIBLIOTECAS "
      ]
    },
    {
      "cell_type": "code",
      "metadata": {
        "id": "_Wo7GlvbUFpR",
        "colab_type": "code",
        "colab": {}
      },
      "source": [
        "import numpy as np\n",
        "import pandas as pd\n",
        "from pandas_datareader import data as wb\n",
        "import matplotlib.pyplot as plt\n",
        "from google.colab import files\n",
        "import seaborn as sns\n",
        "sns.set_style('whitegrid')\n",
        "%matplotlib inline \n",
        "#Este ultimo recurso é específico para usuários do jupyter Notebook. Ele facilita a plotagem de \n",
        "# gráficos do matplotlib logo abaixo das células de código e o armazenamento  delas no documento\n",
        "# do notebook.\n"
      ],
      "execution_count": 0,
      "outputs": []
    },
    {
      "cell_type": "markdown",
      "metadata": {
        "id": "qNKAXnn7ZHzh",
        "colab_type": "text"
      },
      "source": [
        "## 2. BAIXAR O PREÇO DOS ATIVOS DO SITE YAHOO FINANCE:"
      ]
    },
    {
      "cell_type": "code",
      "metadata": {
        "id": "t6aPcoBQLj89",
        "colab_type": "code",
        "colab": {}
      },
      "source": [
        "# INSERIR OS TICKERS DOS ATIVOS QUE SE DESEJAS ANALISAR\n",
        "ativos = ['PETR4.SA', 'ITUB4.SA', 'WEGE3.SA', 'EQTL3.SA', 'RADL3.SA']\n",
        "\n",
        "# DEFNIR A VARIAVEL, QUE RECBERÁ O PREÇO DOS ATIVOS COMO UM DATAFRAME:\n",
        "\n",
        "pf_data = pd.DataFrame() \n"
      ],
      "execution_count": 0,
      "outputs": []
    },
    {
      "cell_type": "code",
      "metadata": {
        "id": "q1Jnu1HNsBQD",
        "colab_type": "code",
        "colab": {}
      },
      "source": [
        "for a in ativos:\n",
        "  pf_data[a] = wb.DataReader(a, data_source = 'yahoo', start = '2009-1-1', end = '2019-1-1')['Adj Close']"
      ],
      "execution_count": 0,
      "outputs": []
    },
    {
      "cell_type": "markdown",
      "metadata": {
        "id": "HwjKLgpDbN4z",
        "colab_type": "text"
      },
      "source": [
        "## 3.  VISUALIZAR OS DADOS: O INICIO E FINAL DO DATAFRAME E INFORMAÇÕES GERAIS SOBRE O CONJUNTO DE DADOS"
      ]
    },
    {
      "cell_type": "code",
      "metadata": {
        "id": "bxV8WALga9G9",
        "colab_type": "code",
        "colab": {}
      },
      "source": [
        "# INICIO: 5 PRIMEIRAS LINHAS\n",
        "pf_data.head() # PODEMOS ADICIONAR NUMEROS ENTRE OS PARENTESES SE DESEJARMOS OBSERVAR UMA QUANTIDADE MAIOR DE DADOS"
      ],
      "execution_count": 0,
      "outputs": []
    },
    {
      "cell_type": "code",
      "metadata": {
        "id": "YohVN-a2byK8",
        "colab_type": "code",
        "colab": {}
      },
      "source": [
        "# FINAL: 5 ULTIMAS LINHAS\n",
        "pf_data.tail()"
      ],
      "execution_count": 0,
      "outputs": []
    },
    {
      "cell_type": "code",
      "metadata": {
        "id": "iXxrBY1YdUiH",
        "colab_type": "code",
        "colab": {}
      },
      "source": [
        "# INFORMAÇÕES GERAIS SOBRE O CONJUNTO DE DADOS:\n",
        "pf_data.info()"
      ],
      "execution_count": 0,
      "outputs": []
    },
    {
      "cell_type": "markdown",
      "metadata": {
        "id": "cMPGVRqQcbWJ",
        "colab_type": "text"
      },
      "source": [
        "## 4. VERIFICAR DADOS FALTANTES E RETIRAR AS CÉLULAS QUE OS CONTEM:"
      ]
    },
    {
      "cell_type": "code",
      "metadata": {
        "id": "SUEvq_SPcseF",
        "colab_type": "code",
        "colab": {}
      },
      "source": [
        "# VERIFICAR EM QUAIS COLUNAS E EM QUE QUANTIDADE ESTÃO PRESENTES OS DADOS FALTANTES:\n",
        "pf_data.isnull().sum() \n"
      ],
      "execution_count": 0,
      "outputs": []
    },
    {
      "cell_type": "code",
      "metadata": {
        "id": "m1HLeIwZd247",
        "colab_type": "code",
        "colab": {}
      },
      "source": [
        "# RETIRAR DADOS FALTANTES DO CONJUNTO DE DADOS:\n",
        "pf_data = pf_data.dropna(subset=['ITUB4.SA', 'WEGE3.SA', 'EQTL3.SA', 'RADL3.SA'])"
      ],
      "execution_count": 0,
      "outputs": []
    },
    {
      "cell_type": "code",
      "metadata": {
        "id": "KWK-YnsUesEj",
        "colab_type": "code",
        "colab": {}
      },
      "source": [
        "# CONFERIR SE OS DADOS FORAM RETIRADOS:\n",
        "pf_data.isnull().sum()"
      ],
      "execution_count": 0,
      "outputs": []
    },
    {
      "cell_type": "code",
      "metadata": {
        "id": "tbu-BfbYe_61",
        "colab_type": "code",
        "colab": {}
      },
      "source": [
        "# VERIFICAR NOVAMENTE A QUANTIDADE DE DADOS EM CADA COLUNA DO DATAFRAME:\n",
        "pf_data.info() "
      ],
      "execution_count": 0,
      "outputs": []
    },
    {
      "cell_type": "markdown",
      "metadata": {
        "id": "osb6qlS9gY8T",
        "colab_type": "text"
      },
      "source": [
        "## 5. ANÁLISE ESTATÍSTICA DOS DADOS:"
      ]
    },
    {
      "cell_type": "code",
      "metadata": {
        "id": "zkRCASqXf7Lx",
        "colab_type": "code",
        "colab": {}
      },
      "source": [
        "# ESTATÍSTICA DESCRITIVA DO CONJUNTO DE DADOS:\n",
        "pf_data.describe()"
      ],
      "execution_count": 0,
      "outputs": []
    },
    {
      "cell_type": "code",
      "metadata": {
        "id": "4vrIDroygkob",
        "colab_type": "code",
        "colab": {}
      },
      "source": [
        "# GRÁFICO BOX-PLOT:\n",
        "'''\n",
        "Com esse gráfico é possível verificar o comportamento do conjunto de ações, por exemplo:\n",
        "1º A dispersão é representada pela amplitude do gráfico, que pode ser calculada como máximo valor – mínimo valor. \n",
        "Quanto maior for a amplitude, maior a variação nos dados.\n",
        "2º a presênça de outliers é uma forte indicação de que o ativo é extremamente sensível a mudanças (politica, social, climatica, fiscal).\n",
        "\n",
        "Dependendo da estratégia do investidor, ações que apresentam um determinado comportamento (baixa ou alta volatilidade) nos dados podem ser \n",
        "escolhidas em detrimento de outras, por exemplo:\n",
        "Ações muito voláteis são preferidas por investidos de curto prazo (\" ideia de mineração de riqueza\"), e ações menos voláteis são preferidas por investidores\n",
        "de longo prazo (\"ideia de ser sócio de um determinado negócio, sentimento de dono\").\n",
        "'''\n",
        "\n",
        "pf_data.boxplot(figsize= (15, 7))"
      ],
      "execution_count": 0,
      "outputs": []
    },
    {
      "cell_type": "code",
      "metadata": {
        "id": "Rn7eFq_dbggn",
        "colab_type": "code",
        "colab": {}
      },
      "source": [
        "# Para realizar uma comparação justa é ecessário normalizar os dados, pois cada ativos possui uma precificação\n",
        "# que é inerente ao seu setor e que difere dos demais ativos. Portanto, vamos trazer todos os dados para a base 100\n",
        "data = (pf_data/pf_data.iloc[0] * 100) #.plot(figsize=(20,10))\n",
        "\n",
        "data.boxplot(figsize= (15, 7));"
      ],
      "execution_count": 0,
      "outputs": []
    },
    {
      "cell_type": "code",
      "metadata": {
        "id": "2Oq8SgM1wSv5",
        "colab_type": "code",
        "colab": {}
      },
      "source": [
        "# MATRIZ DE COVARIANCIA\n",
        "'''\n",
        "Com essa matriz podemos verificar tanto a força como a direção da relação linear entre duas variáveis.\n",
        "Entretanto, é dificil fazer julgamento sobre o poder da relação entre duas variveis usando o covariancia, porque essa medida\n",
        "não é padronizada.\n",
        "'''\n",
        "pf_data.cov()"
      ],
      "execution_count": 0,
      "outputs": []
    },
    {
      "cell_type": "code",
      "metadata": {
        "id": "cs8iWYkkV6f-",
        "colab_type": "code",
        "colab": {}
      },
      "source": [
        "#  Crie um mapa de calor da covariância entre os preços de fechamento ajustado das ações. \n",
        "sns.heatmap(pf_data.cov(), annot=True, linewidths=2 , fmt='.4');"
      ],
      "execution_count": 0,
      "outputs": []
    },
    {
      "cell_type": "code",
      "metadata": {
        "id": "VtknlgGtqORl",
        "colab_type": "code",
        "colab": {}
      },
      "source": [
        "# MATRIZ DE CORRELAÇÃO:\n",
        "'''\n",
        "Com essa matriz podemos verificar tanto a força como a direção da relação linear entre duas variáveis. A correlação é uma medida padronizada entre [-1, 1].\n",
        "corr = 1: correlação perfeitamente positiva, ou seja, se um dos ativos sofre aumento em seu preço, o outro também apresenta alta no preço.  \n",
        "Corr = -1: correlação perfeitamente negativa, ou seja, se o preço de um ativo sofre uma alta, o preço do outro ativo desce.\n",
        "\n",
        "Essa informação é importante tanto para conhecer o comportamento de um conjunto de ativos do mesmo setor ou de setores diferentes,\n",
        " quanto para quem deseja diversificar seus investimentos. Para diversificar os investimentos (construir uma carteira de ações) e obter bons resultados\n",
        " é necessários incluir ações que tenham comportamentos diferentes de forma que, de maneira geral, o resultado da carteira seja positivo, \n",
        " indepentmente da baixa no preços de alguns ativos. O modelo de Markowitz pode ser usado para construir uma carteira diversificada \n",
        " levando em consideração (dentre outras variáveis) a correlação entre os ativos.\n",
        "'''\n",
        "pf_data.corr()"
      ],
      "execution_count": 0,
      "outputs": []
    },
    {
      "cell_type": "code",
      "metadata": {
        "id": "1QJFekT2ZuIY",
        "colab_type": "code",
        "colab": {}
      },
      "source": [
        "#  Crie um mapa de calor da correlação entre os preços de fechamento ajustado das ações. \n",
        "sns.heatmap(pf_data.corr(), annot=True, linewidths=2 , fmt='.4');"
      ],
      "execution_count": 0,
      "outputs": []
    },
    {
      "cell_type": "code",
      "metadata": {
        "id": "6pkflJH4yO7k",
        "colab_type": "code",
        "colab": {}
      },
      "source": [
        "# CALCULAR O VALOR MEDIO DO PREÇO DE CADA AÇÃO:\n",
        "'''\n",
        "É comum a inserção de médias nas análises do preço de ativos, mas, há autores que defendem o uso de medidas\n",
        "\"robustas\", e a mediana é uma delas. Ela é considerada robusta por que não sofre tanto impacto da volatilidade quanto a média.\n",
        "'''\n",
        "media = pf_data.mean()\n",
        "print(\"Média\", '\\n', media)\n",
        "mediana = pf_data.median()\n",
        "print('\\n', \"Mediana\", '\\n', mediana)"
      ],
      "execution_count": 0,
      "outputs": []
    },
    {
      "cell_type": "markdown",
      "metadata": {
        "id": "GxYhCd_Gd0v_",
        "colab_type": "text"
      },
      "source": [
        "Médias móveis:\n",
        "\n",
        "Vamos analisar as médias móveis para essas ações no ano de 2010.\n",
        "** Trace a média de 30 dias para o preço próximo de cada ativo para o ano de 2010 **"
      ]
    },
    {
      "cell_type": "code",
      "metadata": {
        "id": "YIHu1Dhhd84Q",
        "colab_type": "code",
        "colab": {}
      },
      "source": [
        "for i in range(len(ativos)):\n",
        "  plt.figure(figsize=(12,6))\n",
        "  pf_data[ativos[i]].loc['2010-01-01':'2011-01-01'].rolling(window=30).mean().plot(label='30 Day Avg')\n",
        "  pf_data[ativos[i]].loc['2010-01-01':'2011-01-01'].plot(label= str(ativos[i] + 'ADJ CLOSE'))\n",
        "  plt.legend()"
      ],
      "execution_count": 0,
      "outputs": []
    },
    {
      "cell_type": "code",
      "metadata": {
        "id": "3iblCnqNdBDb",
        "colab_type": "code",
        "colab": {}
      },
      "source": [
        "import datetime\n",
        "tickers = [\"EQTL3.SA\"]\n",
        "start = datetime.datetime(2009, 1, 1)\n",
        "end = datetime.datetime(2016, 1, 1)\n",
        "EQTL3 = wb.DataReader(\"EQTL3.SA\", 'yahoo', start, end)\n",
        "# podemos baixar tabém usando:\n",
        "#EQTL3 = wb.DataReader(['EQTL3.SA'],'yahoo', start, end)\n",
        "#EQTL3 = pd.concat([EQTL3],axis=1 #,keys=tickers)\n",
        "EQTL3"
      ],
      "execution_count": 0,
      "outputs": []
    },
    {
      "cell_type": "code",
      "metadata": {
        "id": "ik12NYJ6jW-C",
        "colab_type": "code",
        "colab": {}
      },
      "source": [
        "from google.colab import files\n",
        "# TRANSFORMA O DATAFRAME EM UM ARQUIVO EXCEL E REALIZA O DOWNLOAD:\n",
        "EQTL3_csv = EQTL3.to_csv('EQTL3.csv')\n"
      ],
      "execution_count": 0,
      "outputs": []
    },
    {
      "cell_type": "code",
      "metadata": {
        "id": "bCV7NVvGbQiR",
        "colab_type": "code",
        "colab": {}
      },
      "source": [
        "import plotly.graph_objects as go\n",
        "import pandas as pd\n",
        "\n",
        "df = pd.read_csv('EQTL3.csv')\n",
        "\n",
        "\n",
        "fig = go.Figure(data=[go.Candlestick(x=df['Date'],\n",
        "                open=df['Open'], high=df['High'],\n",
        "                low=df['Low'], close=df['Close'])\n",
        "                     ])\n",
        "\n",
        "fig.update_layout(xaxis_rangeslider_visible=False)\n",
        "fig.show()"
      ],
      "execution_count": 0,
      "outputs": []
    },
    {
      "cell_type": "markdown",
      "metadata": {
        "id": "Ye9ZTWONaevX",
        "colab_type": "text"
      },
      "source": [
        "![image.png](data:image/png;base64,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)"
      ]
    },
    {
      "cell_type": "code",
      "metadata": {
        "id": "aPYiYNN10Fwl",
        "colab_type": "code",
        "colab": {}
      },
      "source": [
        "# VERIFICAR O DIA EM QUE O PREÇO DA AÇÃO FOI O MENOR E O MAIOR\n",
        "'''\n",
        "Essa estratégia pode ser usada por invstidores que procuram entender o porque o \n",
        "preço de uma determinada ação caiu ou subiu, procurando por meio das data, acontecimentos\n",
        "climaticos, politicos, culturais, sociais...\n",
        "'''\n",
        "menor_preco = pf_data.idxmin()\n",
        "print(\"Data do menor preço histórico\", '\\n', menor_preco)\n",
        "\n",
        "maior_preco = pf_data.idxmax()\n",
        "print('\\n', \"Data do maior preço histórico\", '\\n', maior_preco)"
      ],
      "execution_count": 0,
      "outputs": []
    },
    {
      "cell_type": "markdown",
      "metadata": {
        "id": "lfgxPiNG172U",
        "colab_type": "text"
      },
      "source": [
        "## 6. COMPARAR A PERFORMANCE DA EVOLUÇÃO DOS PREÇOS DOS ATIVOS:"
      ]
    },
    {
      "cell_type": "code",
      "metadata": {
        "id": "rxF32PhL1m64",
        "colab_type": "code",
        "colab": {}
      },
      "source": [
        "# Para realizar uma comparação justa é ecessário normalizar os dados, pois cada ativos possui uma precificação\n",
        "# que é inerente ao seu setor e que difere dos demais ativos. Portanto, vamos trazer todos os dados para a base 100\n",
        "(pf_data/pf_data.iloc[0] * 100).plot(figsize=(15,7))"
      ],
      "execution_count": 0,
      "outputs": []
    },
    {
      "cell_type": "markdown",
      "metadata": {
        "id": "I0RZQClFkzRV",
        "colab_type": "text"
      },
      "source": [
        "## 7. CALCULAR RETORNOS:"
      ]
    },
    {
      "cell_type": "markdown",
      "metadata": {
        "id": "ULcK-QYmq37x",
        "colab_type": "text"
      },
      "source": [
        "** Crie um novo DataFrame vazio chamado returns. Este dataframe conterá os retornos para o ação de cada banco. Os retornos geralmente são definidos por: **\n",
        "\n",
        "\n",
        "$$r_t = \\frac{p_t - p_{t-1}}{p_{t-1}} = \\frac{p_t}{p_{t-1}} - 1$$"
      ]
    },
    {
      "cell_type": "code",
      "metadata": {
        "id": "Hh9-ETn4kxMH",
        "colab_type": "code",
        "colab": {}
      },
      "source": [
        "returns = pd.DataFrame()"
      ],
      "execution_count": 0,
      "outputs": []
    },
    {
      "cell_type": "markdown",
      "metadata": {
        "id": "Tm8kCSJfrFjm",
        "colab_type": "text"
      },
      "source": [
        "** Podemos usar o método pct_change () pandas na coluna close para criar uma coluna que represente esse valor de retorno. Crie um loop for que vá e para cada Bank Stock Ticker cria essa coluna de retorno e configura-a como uma coluna nos dados DataFrame. **"
      ]
    },
    {
      "cell_type": "code",
      "metadata": {
        "id": "ErVRKpitrIWE",
        "colab_type": "code",
        "colab": {}
      },
      "source": [
        "\n",
        "for item in ativos:\n",
        "    returns[item ] = pf_data[item].pct_change()\n",
        "returns.head(100)"
      ],
      "execution_count": 0,
      "outputs": []
    },
    {
      "cell_type": "markdown",
      "metadata": {
        "id": "IcufESilrvnR",
        "colab_type": "text"
      },
      "source": [
        "** Crie um parplot utilizando seaborn no dataframe de retorno. **"
      ]
    },
    {
      "cell_type": "code",
      "metadata": {
        "id": "munP6dfermtG",
        "colab_type": "code",
        "colab": {}
      },
      "source": [
        "sns.pairplot(returns[:]);"
      ],
      "execution_count": 0,
      "outputs": []
    },
    {
      "cell_type": "code",
      "metadata": {
        "id": "x7hkCelBn9oi",
        "colab_type": "code",
        "colab": {}
      },
      "source": [
        "returns.corr()"
      ],
      "execution_count": 0,
      "outputs": []
    },
    {
      "cell_type": "markdown",
      "metadata": {
        "id": "GZlh-U8Z5QIE",
        "colab_type": "text"
      },
      "source": [
        "## 8. SALVAR DADOS EM EXCEL E FAZER DOWNLOAD:"
      ]
    },
    {
      "cell_type": "code",
      "metadata": {
        "id": "oZVThbdi5a02",
        "colab_type": "code",
        "colab": {}
      },
      "source": [
        "# TRANSFORMA O DATAFRAME EM UM ARQUIVO EXCEL E REALIZA O DOWNLOAD:\n",
        "pf_data_excel = pf_data.to_excel('serie_temporal.xlsx')\n",
        "files.download('serie_temporal.xlsx')"
      ],
      "execution_count": 0,
      "outputs": []
    }
  ]
}